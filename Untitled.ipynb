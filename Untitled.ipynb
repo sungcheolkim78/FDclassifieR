{
 "cells": [
  {
   "cell_type": "code",
   "execution_count": 1,
   "metadata": {},
   "outputs": [],
   "source": [
    "from sympy import *"
   ]
  },
  {
   "cell_type": "code",
   "execution_count": 7,
   "metadata": {},
   "outputs": [],
   "source": [
    "a, b, r, N = symbols('a b r N')"
   ]
  },
  {
   "cell_type": "code",
   "execution_count": 3,
   "metadata": {},
   "outputs": [
    {
     "data": {
      "text/latex": [
       "$\\displaystyle \\frac{r}{e^{a r + b} + 1}$"
      ],
      "text/plain": [
       "r/(exp(a*r + b) + 1)"
      ]
     },
     "execution_count": 3,
     "metadata": {},
     "output_type": "execute_result"
    }
   ],
   "source": [
    "simplify(r/(1+exp(a*r+b)))"
   ]
  },
  {
   "cell_type": "code",
   "execution_count": 20,
   "metadata": {},
   "outputs": [
    {
     "data": {
      "text/latex": [
       "$\\displaystyle \\int\\limits_{0}^{N} \\frac{r}{e^{b} e^{a r} + 1}\\, dr$"
      ],
      "text/plain": [
       "Integral(r/(exp(b)*exp(a*r) + 1), (r, 0, N))"
      ]
     },
     "execution_count": 20,
     "metadata": {},
     "output_type": "execute_result"
    }
   ],
   "source": [
    "integ = integrate(r/(1+exp(a*r+b)), (r,0, N))\n",
    "integ"
   ]
  },
  {
   "cell_type": "code",
   "execution_count": 21,
   "metadata": {},
   "outputs": [
    {
     "data": {
      "text/latex": [
       "$\\displaystyle \\frac{N^{2}}{2 e^{b} + 2} - \\frac{N^{3} a e^{b}}{3 e^{2 b} + 6 e^{b} + 3} + \\frac{N^{4} a^{2} \\left(e^{2 b} - e^{b}\\right)}{8 e^{3 b} + 24 e^{2 b} + 24 e^{b} + 8} + \\frac{N^{5} a^{3} \\left(- e^{3 b} + 4 e^{2 b} - e^{b}\\right)}{30 e^{4 b} + 120 e^{3 b} + 180 e^{2 b} + 120 e^{b} + 30} + O\\left(a^{4}\\right)$"
      ],
      "text/plain": [
       "N**2/(2*exp(b) + 2) - N**3*a*exp(b)/(3*exp(2*b) + 6*exp(b) + 3) + N**4*a**2*(exp(2*b) - exp(b))/(8*exp(3*b) + 24*exp(2*b) + 24*exp(b) + 8) + N**5*a**3*(-exp(3*b) + 4*exp(2*b) - exp(b))/(30*exp(4*b) + 120*exp(3*b) + 180*exp(2*b) + 120*exp(b) + 30) + O(a**4)"
      ]
     },
     "execution_count": 21,
     "metadata": {},
     "output_type": "execute_result"
    }
   ],
   "source": [
    "integ.series(a, 0, 4)"
   ]
  },
  {
   "cell_type": "code",
   "execution_count": 24,
   "metadata": {},
   "outputs": [
    {
     "data": {
      "text/latex": [
       "$\\displaystyle N + \\frac{\\log{\\left(e^{b} + 1 \\right)}}{a} - \\frac{\\log{\\left(e^{N a + b} + 1 \\right)}}{a}$"
      ],
      "text/plain": [
       "N + log(exp(b) + 1)/a - log(exp(N*a + b) + 1)/a"
      ]
     },
     "execution_count": 24,
     "metadata": {},
     "output_type": "execute_result"
    }
   ],
   "source": [
    "integ = integrate(1/(1+exp(a*r+b)), (r,0, N))\n",
    "integ"
   ]
  },
  {
   "cell_type": "code",
   "execution_count": 16,
   "metadata": {},
   "outputs": [
    {
     "data": {
      "text/latex": [
       "$\\displaystyle - \\frac{24 e^{b}}{24 e^{b} + 24} + 1 + a \\left(\\frac{288 N e^{2 b}}{576 e^{2 b} + 1152 e^{b} + 576} - \\frac{12 N e^{b}}{24 e^{b} + 24}\\right) + a^{2} \\left(- \\frac{4608 N^{2} e^{3 b}}{13824 e^{3 b} + 41472 e^{2 b} + 41472 e^{b} + 13824} + \\frac{288 N^{2} e^{2 b}}{576 e^{2 b} + 1152 e^{b} + 576} - \\frac{4 N^{2} e^{b}}{24 e^{b} + 24}\\right) + a^{3} \\left(\\frac{82944 N^{3} e^{4 b}}{331776 e^{4 b} + 1327104 e^{3 b} + 1990656 e^{2 b} + 1327104 e^{b} + 331776} - \\frac{6912 N^{3} e^{3 b}}{13824 e^{3 b} + 41472 e^{2 b} + 41472 e^{b} + 13824} + \\frac{168 N^{3} e^{2 b}}{576 e^{2 b} + 1152 e^{b} + 576} - \\frac{N^{3} e^{b}}{24 e^{b} + 24}\\right) + O\\left(a^{4}\\right)$"
      ],
      "text/plain": [
       "-24*exp(b)/(24*exp(b) + 24) + 1 + a*(288*N*exp(2*b)/(576*exp(2*b) + 1152*exp(b) + 576) - 12*N*exp(b)/(24*exp(b) + 24)) + a**2*(-4608*N**2*exp(3*b)/(13824*exp(3*b) + 41472*exp(2*b) + 41472*exp(b) + 13824) + 288*N**2*exp(2*b)/(576*exp(2*b) + 1152*exp(b) + 576) - 4*N**2*exp(b)/(24*exp(b) + 24)) + a**3*(82944*N**3*exp(4*b)/(331776*exp(4*b) + 1327104*exp(3*b) + 1990656*exp(2*b) + 1327104*exp(b) + 331776) - 6912*N**3*exp(3*b)/(13824*exp(3*b) + 41472*exp(2*b) + 41472*exp(b) + 13824) + 168*N**3*exp(2*b)/(576*exp(2*b) + 1152*exp(b) + 576) - N**3*exp(b)/(24*exp(b) + 24)) + O(a**4)"
      ]
     },
     "execution_count": 16,
     "metadata": {},
     "output_type": "execute_result"
    }
   ],
   "source": [
    "integ.series(a, 0, 4)"
   ]
  },
  {
   "cell_type": "code",
   "execution_count": 26,
   "metadata": {},
   "outputs": [],
   "source": [
    "sss = exp(1-exp(a*N*(1-r)))/(exp(a*N*(1-r)) - exp(a*N))"
   ]
  },
  {
   "cell_type": "code",
   "execution_count": 27,
   "metadata": {},
   "outputs": [
    {
     "data": {
      "text/latex": [
       "$\\displaystyle - \\frac{1}{N a r} + \\frac{2}{r} - \\frac{3}{2} + a \\left(- \\frac{7 N r}{12} + 2 N - \\frac{3 N}{2 r}\\right) + a^{2} \\left(\\frac{N^{2} r^{2}}{12} + \\frac{N^{2} r}{6} - \\frac{3 N^{2}}{4} + \\frac{N^{2}}{2 r}\\right) + a^{3} \\left(\\frac{31 N^{3} r^{3}}{720} - \\frac{N^{3} r^{2}}{6} + \\frac{N^{3} r}{8} + \\frac{N^{3}}{12} - \\frac{N^{3}}{12 r}\\right) + O\\left(a^{4}\\right)$"
      ],
      "text/plain": [
       "-1/(N*a*r) + 2/r - 3/2 + a*(-7*N*r/12 + 2*N - 3*N/(2*r)) + a**2*(N**2*r**2/12 + N**2*r/6 - 3*N**2/4 + N**2/(2*r)) + a**3*(31*N**3*r**3/720 - N**3*r**2/6 + N**3*r/8 + N**3/12 - N**3/(12*r)) + O(a**4)"
      ]
     },
     "execution_count": 27,
     "metadata": {},
     "output_type": "execute_result"
    }
   ],
   "source": [
    "sss.series(a, 0, 4)"
   ]
  },
  {
   "cell_type": "code",
   "execution_count": null,
   "metadata": {},
   "outputs": [],
   "source": []
  }
 ],
 "metadata": {
  "kernelspec": {
   "display_name": "Python 3",
   "language": "python",
   "name": "python3"
  },
  "language_info": {
   "codemirror_mode": {
    "name": "ipython",
    "version": 3
   },
   "file_extension": ".py",
   "mimetype": "text/x-python",
   "name": "python",
   "nbconvert_exporter": "python",
   "pygments_lexer": "ipython3",
   "version": "3.7.6"
  }
 },
 "nbformat": 4,
 "nbformat_minor": 4
}
