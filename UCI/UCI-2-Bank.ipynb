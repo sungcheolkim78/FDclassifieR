{
 "cells": [
  {
   "cell_type": "code",
   "execution_count": 11,
   "metadata": {},
   "outputs": [
    {
     "name": "stderr",
     "output_type": "stream",
     "text": [
      "Loading FDclassifieR\n",
      "\n"
     ]
    }
   ],
   "source": [
    "devtools::load_all(\".\")\n",
    "\n",
    "library(FDclassifieR)"
   ]
  },
  {
   "cell_type": "code",
   "execution_count": 12,
   "metadata": {},
   "outputs": [],
   "source": [
    "Bank <- read.csv('data/bank.csv', sep=';')\n",
    "\n",
    "inTraining0 <- createDataPartition(Bank$y, p = .75, list = FALSE)\n",
    "training <- Bank[ inTraining0,]\n",
    "testing  <- Bank[-inTraining0,]\n",
    "testingY <- to_label(Bank[-inTraining0, ncol(Bank)])"
   ]
  },
  {
   "cell_type": "code",
   "execution_count": 19,
   "metadata": {},
   "outputs": [
    {
     "data": {
      "text/plain": [
       "\n",
       "  no  yes \n",
       "1000  130 "
      ]
     },
     "metadata": {},
     "output_type": "display_data"
    }
   ],
   "source": [
    "table(testing$y)"
   ]
  },
  {
   "cell_type": "code",
   "execution_count": 22,
   "metadata": {},
   "outputs": [],
   "source": [
    "model_list <- c('nnet', 'rda', 'svmLinear', 'svmRadial', 'pls', 'earth', 'avNNet', 'mlp', \n",
    "                'rf', 'rpart', 'xgbTree', 'ctree', 'C5.0', 'gbm', 'bayesglm', 'earth', 'glm', \n",
    "                'avNNet', 'glmnet', 'simpls', 'xgbLinear','ctree', 'C5.0', 'gbm')\n",
    "\n",
    "t1 <- mtrainer(model_list, dataInfo = 'Bank')"
   ]
  },
  {
   "cell_type": "code",
   "execution_count": 21,
   "metadata": {},
   "outputs": [
    {
     "name": "stdout",
     "output_type": "stream",
     "text": [
      "... train model with  20  algorithms\n"
     ]
    },
    {
     "name": "stderr",
     "output_type": "stream",
     "text": [
      "Training algorithm : nnet with : 15 cores\n",
      "\n"
     ]
    },
    {
     "name": "stdout",
     "output_type": "stream",
     "text": [
      "# weights:  617\n",
      "initial  value 2568.154168 \n",
      "iter  10 value 799.997923\n",
      "iter  20 value 710.490996\n",
      "iter  30 value 682.228424\n",
      "iter  40 value 665.349934\n",
      "iter  50 value 649.940422\n",
      "iter  60 value 638.317866\n",
      "iter  70 value 631.189927\n",
      "iter  80 value 625.961161\n",
      "iter  90 value 621.035208\n",
      "iter 100 value 618.323980\n",
      "final  value 618.323980 \n",
      "stopped after 100 iterations\n"
     ]
    },
    {
     "name": "stderr",
     "output_type": "stream",
     "text": [
      "Training algorithm : rda with : 15 cores\n",
      "\n",
      "Training algorithm : svmLinear with : 15 cores\n",
      "\n",
      "Training algorithm : svmRadial with : 15 cores\n",
      "\n",
      "Training algorithm : pls with : 15 cores\n",
      "\n",
      "Training algorithm : earth with : 15 cores\n",
      "\n",
      "Loading required package: earth\n",
      "\n",
      "Loading required package: Formula\n",
      "\n",
      "Loading required package: plotmo\n",
      "\n",
      "Loading required package: plotrix\n",
      "\n",
      "Loading required package: TeachingDemos\n",
      "\n",
      "Training algorithm : avNNet with : 15 cores\n",
      "\n",
      "Training algorithm : mlp with : 15 cores\n",
      "\n",
      "Training algorithm : nb with : 15 cores\n",
      "\n"
     ]
    },
    {
     "ename": "ERROR",
     "evalue": "Error in {: task 1 failed - \"Not all variable names used in object found in newdata\"\n",
     "output_type": "error",
     "traceback": [
      "Error in {: task 1 failed - \"Not all variable names used in object found in newdata\"\nTraceback:\n",
      "1. train(t1, y ~ ., training, update = F)",
      "2. train.mtrainer(t1, y ~ ., training, update = F)",
      "3. lapply(mtrainer$model_list, caret_train)   # at line 123 of file /projects/SharedFolder/git_repos/FDclassifieR/R/trainer.R",
      "4. FUN(X[[i]], ...)",
      "5. caret::train(formula, data = data, method = method, trControl = mtrainer$control, \n .     metric = \"ROC\", tuneLength = 4, preProc = c(\"center\", \"scale\"))   # at line 113-114 of file /projects/SharedFolder/git_repos/FDclassifieR/R/trainer.R",
      "6. train.formula(formula, data = data, method = method, trControl = mtrainer$control, \n .     metric = \"ROC\", tuneLength = 4, preProc = c(\"center\", \"scale\"))",
      "7. train(x, y, weights = w, ...)",
      "8. train.default(x, y, weights = w, ...)",
      "9. nominalTrainWorkflow(x = x, y = y, wts = weights, info = trainInfo, \n .     method = models, ppOpts = preProcess, ctrl = trControl, lev = classLevels, \n .     ...)",
      "10. foreach(iter = seq(along = resampleIndex), .combine = \"c\", .verbose = FALSE, \n  .     .export = export, .packages = \"caret\") %:% foreach(parm = 1L:nrow(info$loop), \n  .     .combine = \"c\", .verbose = FALSE, .export = export, .packages = \"caret\") %op% \n  .     {\n  .         if (!(length(ctrl$seeds) == 1 && is.na(ctrl$seeds))) \n  .             set.seed(ctrl$seeds[[iter]][parm])\n  .         loadNamespace(\"caret\")\n  .         lapply(pkgs, requireNamespaceQuietStop)\n  .         if (ctrl$verboseIter) \n  .             progress(printed[parm, , drop = FALSE], names(resampleIndex), \n  .                 iter)\n  .         if (names(resampleIndex)[iter] != \"AllData\") {\n  .             modelIndex <- resampleIndex[[iter]]\n  .             holdoutIndex <- ctrl$indexOut[[iter]]\n  .         }\n  .         else {\n  .             modelIndex <- 1:nrow(x)\n  .             holdoutIndex <- modelIndex\n  .         }\n  .         if (testing) \n  .             cat(\"pre-model\\n\")\n  .         if (!is.null(info$submodels[[parm]]) && nrow(info$submodels[[parm]]) > \n  .             0) {\n  .             submod <- info$submodels[[parm]]\n  .         }\n  .         else submod <- NULL\n  .         mod <- try(createModel(x = subset_x(x, modelIndex), y = y[modelIndex], \n  .             wts = wts[modelIndex], method = method, tuneValue = info$loop[parm, \n  .                 , drop = FALSE], obsLevels = lev, pp = ppp, classProbs = ctrl$classProbs, \n  .             sampling = ctrl$sampling, ...), silent = TRUE)\n  .         if (testing) \n  .             print(mod)\n  .         if (!model_failed(mod)) {\n  .             predicted <- try(predictionFunction(method = method, \n  .                 modelFit = mod$fit, newdata = subset_x(x, holdoutIndex), \n  .                 preProc = mod$preProc, param = submod), silent = TRUE)\n  .             if (pred_failed(predicted)) {\n  .                 fail_warning(settings = printed[parm, , drop = FALSE], \n  .                   msg = predicted, where = \"predictions\", iter = names(resampleIndex)[iter], \n  .                   verb = ctrl$verboseIter)\n  .                 predicted <- fill_failed_pred(index = holdoutIndex, \n  .                   lev = lev, submod)\n  .             }\n  .         }\n  .         else {\n  .             fail_warning(settings = printed[parm, , drop = FALSE], \n  .                 msg = mod, iter = names(resampleIndex)[iter], \n  .                 verb = ctrl$verboseIter)\n  .             predicted <- fill_failed_pred(index = holdoutIndex, \n  .                 lev = lev, submod)\n  .         }\n  .         if (testing) \n  .             print(head(predicted))\n  .         if (ctrl$classProbs) {\n  .             if (!model_failed(mod)) {\n  .                 probValues <- probFunction(method = method, modelFit = mod$fit, \n  .                   newdata = subset_x(x, holdoutIndex), preProc = mod$preProc, \n  .                   param = submod)\n  .             }\n  .             else {\n  .                 probValues <- fill_failed_prob(holdoutIndex, \n  .                   lev, submod)\n  .             }\n  .             if (testing) \n  .                 print(head(probValues))\n  .         }\n  .         predicted <- trim_values(predicted, ctrl, is.null(lev))\n  .         if (!is.null(submod)) {\n  .             allParam <- expandParameters(info$loop[parm, , drop = FALSE], \n  .                 info$submodels[[parm]])\n  .             allParam <- allParam[complete.cases(allParam), , \n  .                 drop = FALSE]\n  .             predicted <- lapply(predicted, function(x, y, wts, \n  .                 lv, rows) {\n  .                 x <- outcome_conversion(x, lv = lev)\n  .                 out <- data.frame(pred = x, obs = y, stringsAsFactors = FALSE)\n  .                 if (!is.null(wts)) \n  .                   out$weights <- wts\n  .                 out$rowIndex <- rows\n  .                 out\n  .             }, y = y[holdoutIndex], wts = wts[holdoutIndex], \n  .                 lv = lev, rows = holdoutIndex)\n  .             if (ctrl$classProbs) \n  .                 predicted <- mapply(cbind, predicted, probValues, \n  .                   SIMPLIFY = FALSE)\n  .             if (keep_pred) {\n  .                 tmpPred <- predicted\n  .                 for (modIndex in seq(along = tmpPred)) {\n  .                   tmpPred[[modIndex]] <- merge(tmpPred[[modIndex]], \n  .                     allParam[modIndex, , drop = FALSE], all = TRUE)\n  .                 }\n  .                 tmpPred <- rbind.fill(tmpPred)\n  .                 tmpPred$Resample <- names(resampleIndex)[iter]\n  .             }\n  .             else tmpPred <- NULL\n  .             thisResample <- lapply(predicted, ctrl$summaryFunction, \n  .                 lev = lev, model = method)\n  .             if (testing) \n  .                 print(head(thisResample))\n  .             if (length(lev) > 1 && length(lev) <= 50) {\n  .                 cells <- lapply(predicted, function(x) flatTable(x$pred, \n  .                   x$obs))\n  .                 for (ind in seq(along = cells)) thisResample[[ind]] <- c(thisResample[[ind]], \n  .                   cells[[ind]])\n  .             }\n  .             thisResample <- do.call(\"rbind\", thisResample)\n  .             thisResample <- cbind(allParam, thisResample)\n  .         }\n  .         else {\n  .             if (is.factor(y)) \n  .                 predicted <- outcome_conversion(predicted, lv = lev)\n  .             tmp <- data.frame(pred = predicted, obs = y[holdoutIndex], \n  .                 stringsAsFactors = FALSE)\n  .             names(tmp)[1] <- \"pred\"\n  .             if (!is.null(wts)) \n  .                 tmp$weights <- wts[holdoutIndex]\n  .             if (ctrl$classProbs) \n  .                 tmp <- cbind(tmp, probValues)\n  .             tmp$rowIndex <- holdoutIndex\n  .             if (keep_pred) {\n  .                 tmpPred <- tmp\n  .                 tmpPred$rowIndex <- holdoutIndex\n  .                 tmpPred <- merge(tmpPred, info$loop[parm, , drop = FALSE], \n  .                   all = TRUE)\n  .                 tmpPred$Resample <- names(resampleIndex)[iter]\n  .             }\n  .             else tmpPred <- NULL\n  .             thisResample <- ctrl$summaryFunction(tmp, lev = lev, \n  .                 model = method)\n  .             if (length(lev) > 1 && length(lev) <= 50) \n  .                 thisResample <- c(thisResample, flatTable(tmp$pred, \n  .                   tmp$obs))\n  .             thisResample <- as.data.frame(t(thisResample))\n  .             thisResample <- cbind(thisResample, info$loop[parm, \n  .                 , drop = FALSE])\n  .         }\n  .         thisResample$Resample <- names(resampleIndex)[iter]\n  .         thisResampleExtra <- optimism_xy(ctrl, x, y, wts, iter, \n  .             lev, method, mod, predicted, submod, info$loop[parm, \n  .                 , drop = FALSE])\n  .         if (ctrl$verboseIter) \n  .             progress(printed[parm, , drop = FALSE], names(resampleIndex), \n  .                 iter, FALSE)\n  .         if (testing) \n  .             print(thisResample)\n  .         list(resamples = thisResample, pred = tmpPred, resamplesExtra = thisResampleExtra)\n  .     }",
      "11. e$fun(obj, substitute(ex), parent.frame(), e$data)"
     ]
    }
   ],
   "source": [
    "t1 <- train(t1, y~., training, update=F)"
   ]
  },
  {
   "cell_type": "code",
   "execution_count": 16,
   "metadata": {},
   "outputs": [
    {
     "name": "stdout",
     "output_type": "stream",
     "text": [
      "... train model with  2  algorithms\n"
     ]
    },
    {
     "name": "stderr",
     "output_type": "stream",
     "text": [
      "Training algorithm : rda with : 15 cores\n",
      "\n",
      "... using cached result: rda\n",
      "\n",
      "Training algorithm : pls with : 15 cores\n",
      "\n",
      "... using cached result: pls\n",
      "\n"
     ]
    },
    {
     "name": "stdout",
     "output_type": "stream",
     "text": [
      "2.761 sec elapsed\n"
     ]
    }
   ],
   "source": [
    "t1 <- t1 %>%\n",
    "  addmodel.mtrainer(c('pls')) %>%\n",
    "  train(y~., training, update=F)"
   ]
  },
  {
   "cell_type": "code",
   "execution_count": 17,
   "metadata": {},
   "outputs": [
    {
     "data": {
      "image/png": "[encoded data removed]",
      "text/plain": [
       "plot without title"
      ]
     },
     "metadata": {
      "image/png": {
       "height": 420,
       "width": 420
      },
      "text/plain": {
       "height": 420,
       "width": 420
      }
     },
     "output_type": "display_data"
    }
   ],
   "source": [
    "plot(t1)"
   ]
  },
  {
   "cell_type": "code",
   "execution_count": 18,
   "metadata": {},
   "outputs": [
    {
     "name": "stderr",
     "output_type": "stream",
     "text": [
      "... predict using 2 base classifiers\n",
      "\n"
     ]
    },
    {
     "ename": "ERROR",
     "evalue": "Error in mtrainer$predictions[, i] <- tmp[[1]][, class1]: replacement has length zero\n",
     "output_type": "error",
     "traceback": [
      "Error in mtrainer$predictions[, i] <- tmp[[1]][, class1]: replacement has length zero\nTraceback:\n",
      "1. predict(t1, newdata = testing)",
      "2. predict.mtrainer(t1, newdata = testing)"
     ]
    }
   ],
   "source": [
    "t1 <- predict(t1, newdata=testing)"
   ]
  },
  {
   "cell_type": "code",
   "execution_count": null,
   "metadata": {},
   "outputs": [],
   "source": [
    "fde1 <- fde(t1$predictions)\n",
    "fde1 <- calculate_performance(fde1, testingY, alpha=1)"
   ]
  },
  {
   "cell_type": "code",
   "execution_count": 18,
   "metadata": {},
   "outputs": [
    {
     "ename": "ERROR",
     "evalue": "Error in plot_cor(fde1, class_flag = \"positive\"): object 'fde1' not found\n",
     "output_type": "error",
     "traceback": [
      "Error in plot_cor(fde1, class_flag = \"positive\"): object 'fde1' not found\nTraceback:\n",
      "1. plot_cor(fde1, class_flag = \"positive\")"
     ]
    }
   ],
   "source": [
    "plot_cor(fde1, class_flag = 'positive')"
   ]
  },
  {
   "cell_type": "code",
   "execution_count": 19,
   "metadata": {},
   "outputs": [
    {
     "ename": "ERROR",
     "evalue": "Error in plot_performance(fde1, nsample = 3, trendline = T): object 'fde1' not found\n",
     "output_type": "error",
     "traceback": [
      "Error in plot_performance(fde1, nsample = 3, trendline = T): object 'fde1' not found\nTraceback:\n",
      "1. plot_performance(fde1, nsample = 3, trendline = T)"
     ]
    }
   ],
   "source": [
    "plot_performance(fde1, nsample=3, trendline=T)"
   ]
  },
  {
   "cell_type": "code",
   "execution_count": 20,
   "metadata": {},
   "outputs": [
    {
     "ename": "ERROR",
     "evalue": "Error in sample(1:.Object@nmethods, j): object 'fde1' not found\n",
     "output_type": "error",
     "traceback": [
      "Error in sample(1:.Object@nmethods, j): object 'fde1' not found\nTraceback:\n",
      "1. plot_performance_nmethods(fde1, nmethod_list = 1:2, nsample = 2)",
      "2. cal_partial_performance(.Object, nmethod_list = nmethod_list, \n .     nsample = nsample)   # at line 354 of file /projects/SharedFolder/git_repos/FDclassifieR/R/ensemble.R",
      "3. sample(1:.Object@nmethods, j)   # at line 385 of file /projects/SharedFolder/git_repos/FDclassifieR/R/ensemble.R"
     ]
    }
   ],
   "source": [
    "plot_performance_nmethods(fde1, nmethod_list = 1:2, nsample=2)"
   ]
  },
  {
   "cell_type": "code",
   "execution_count": 21,
   "metadata": {},
   "outputs": [
    {
     "ename": "ERROR",
     "evalue": "Error in plot_single(fde1, \"score\"): object 'fde1' not found\n",
     "output_type": "error",
     "traceback": [
      "Error in plot_single(fde1, \"score\"): object 'fde1' not found\nTraceback:\n",
      "1. plot_single(fde1, \"score\")"
     ]
    }
   ],
   "source": [
    "plot_single(fde1, 'score')"
   ]
  },
  {
   "cell_type": "code",
   "execution_count": 17,
   "metadata": {},
   "outputs": [
    {
     "name": "stdout",
     "output_type": "stream",
     "text": [
      "... save predictions to  sonar_m8_pre.RData \n"
     ]
    }
   ],
   "source": [
    "store.mtrainer(t1, 'sonar_m8_pre.RData')"
   ]
  },
  {
   "cell_type": "code",
   "execution_count": null,
   "metadata": {},
   "outputs": [],
   "source": []
  }
 ],
 "metadata": {
  "kernelspec": {
   "display_name": "R cran (3.6.0)",
   "language": "R",
   "name": "ir"
  },
  "language_info": {
   "codemirror_mode": "r",
   "file_extension": ".r",
   "mimetype": "text/x-r-source",
   "name": "R",
   "pygments_lexer": "r",
   "version": "3.6.0"
  }
 },
 "nbformat": 4,
 "nbformat_minor": 4
}
